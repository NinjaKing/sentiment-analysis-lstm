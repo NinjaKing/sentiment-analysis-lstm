{
 "cells": [
  {
   "cell_type": "code",
   "execution_count": 24,
   "metadata": {},
   "outputs": [],
   "source": [
    "import pandas as pd\n",
    "import pickle\n",
    "import numpy as np\n",
    "import os\n",
    "from keras.models import Sequential, load_model, Model\n",
    "from keras.layers import Input, Dense, Dropout, Activation, Flatten\n",
    "from keras.layers import Embedding\n",
    "from keras.callbacks import ModelCheckpoint, ReduceLROnPlateau\n",
    "from keras.layers import LSTM, Bidirectional, Convolution2D, MaxPooling2D\n",
    "from keras.preprocessing.sequence import pad_sequences\n",
    "from keras.utils import to_categorical\n",
    "\n",
    "from gensim.scripts.glove2word2vec import glove2word2vec \n",
    "from gensim.models.keyedvectors import KeyedVectors\n",
    "from gensim.models import Word2Vec\n",
    "\n",
    "import html, re\n",
    "import nltk\n",
    "from nltk.tokenize import sent_tokenize\n",
    "from nltk.corpus import stopwords\n",
    "from string import punctuation"
   ]
  },
  {
   "cell_type": "code",
   "execution_count": 2,
   "metadata": {},
   "outputs": [
    {
     "name": "stdout",
     "output_type": "stream",
     "text": [
      "[nltk_data] Downloading package punkt to\n",
      "[nltk_data]     C:\\Users\\minh\\AppData\\Roaming\\nltk_data...\n",
      "[nltk_data]   Package punkt is already up-to-date!\n",
      "[nltk_data] Downloading package stopwords to\n",
      "[nltk_data]     C:\\Users\\minh\\AppData\\Roaming\\nltk_data...\n",
      "[nltk_data]   Package stopwords is already up-to-date!\n"
     ]
    },
    {
     "data": {
      "text/plain": [
       "True"
      ]
     },
     "execution_count": 2,
     "metadata": {},
     "output_type": "execute_result"
    }
   ],
   "source": [
    "nltk.download('punkt')\n",
    "nltk.download('stopwords')"
   ]
  },
  {
   "cell_type": "code",
   "execution_count": 3,
   "metadata": {},
   "outputs": [],
   "source": [
    "path = \"data/\"\n",
    "GLOVE_DIR = \"data/glove.twitter.27B/\""
   ]
  },
  {
   "cell_type": "code",
   "execution_count": 4,
   "metadata": {},
   "outputs": [],
   "source": [
    "input_dim = 100"
   ]
  },
  {
   "cell_type": "code",
   "execution_count": 5,
   "metadata": {},
   "outputs": [],
   "source": [
    "def ReadCSV(datafile, labelfile):\n",
    "    inputdata = pd.io.parsers.read_csv(open(datafile, \"r\"),delimiter=\",\")\n",
    "    data = inputdata.as_matrix()\n",
    "    #data = (tmpdata/255.0)-0.5\n",
    "    label = np.loadtxt(open(labelfile, \"rb\"),delimiter=\",\")\n",
    "    return data, label"
   ]
  },
  {
   "cell_type": "code",
   "execution_count": 6,
   "metadata": {},
   "outputs": [],
   "source": [
    "def strip_punctuation(s):\n",
    "    return ''.join(c for c in s if c not in punctuation)\n",
    "\n",
    "def stopwordsremoval(sentence):\n",
    "    stopwords_removed = [word for word in sentence.split(' ') if word not in stopwords.words('english')]\n",
    "    return stopwords_removed\n",
    "\n",
    "def clean_str(string):\n",
    "    string = html.unescape(string)\n",
    "    string = string.replace(\"\\\\n\", \" \")\n",
    "    #string = string.replace(\"_NEG\", \"\")\n",
    "    #string = string.replace(\"_NEGFIRST\", \"\")\n",
    "    string = re.sub(r\"@[A-Za-z0-9_s(),!?\\'\\`]+\", \"\", string) #removes @---, \n",
    "    string = re.sub(r\"\\*\", \" \", string)\n",
    "    string = re.sub(r\"\\'s\", \" \\'s\", string)\n",
    "    string = re.sub(r\"\\'m\", \" \\'m\", string)\n",
    "    string = re.sub(r\"\\'ve\", \" \\'ve\", string)\n",
    "    string = re.sub(r\"n\\'t\", \" n\\'t\", string)\n",
    "    string = re.sub(r\"\\'re\", \" \\'re\", string)\n",
    "    string = re.sub(r\"\\'d\", \" \\'d\", string)\n",
    "    string = re.sub(r\"\\'ll\", \" \\'ll\", string)\n",
    "    string = re.sub(r\",\", \" ,\", string)\n",
    "    string = re.sub(r\"!\", \" !\", string)\n",
    "    string = re.sub(r\"\\(\", \" ( \", string)\n",
    "    string = re.sub(r\"\\)\", \" ) \", string)\n",
    "    string = re.sub(r\"\\?\", \" ?\", string)\n",
    "    string = re.sub(r\"\\s{2,}\", \" \", string)\n",
    "    return stopwordsremoval(strip_punctuation(string.strip().lower()))\n",
    "\n",
    "def preprocessing(train_file): ## we will return everything as dictionaries\n",
    "    corpus_dict = {}\n",
    "    intensity_dict = {}\n",
    "    affect_dict = {}\n",
    "    df=pd.read_csv(train_file,encoding='utf-8')\n",
    "    id = df['ID'] # not used\n",
    "    train_sentences=df['Tweet']\n",
    "    intensity_scores=df['Intensity Score']\n",
    "    affect_dimension = df['Affect Dimension']\n",
    "    \n",
    "    for (k1,v1),(k2,v2),(k3,v3) in zip(train_sentences.iteritems(), intensity_scores.iteritems(), affect_dimension.iteritems()):\n",
    "        intensity_dict[k2] = v2\n",
    "        affect_dict[k3] = v3\n",
    "        # adding processed tweets in a dict\n",
    "        sentence = sent_tokenize(v1) # sentence tokenize, list of sentences\n",
    "        processed_tweet = []\n",
    "        for sen in sentence:\n",
    "            sen1=\"\"\n",
    "            sen1 = clean_str(sen)\n",
    "            processed_tweet = processed_tweet+sen1\n",
    "        corpus_dict[k1]=processed_tweet \n",
    "    return corpus_dict,affect_dict,intensity_dict"
   ]
  },
  {
   "cell_type": "code",
   "execution_count": 7,
   "metadata": {},
   "outputs": [],
   "source": [
    "def one_hot_encoding(y):\n",
    "    y = to_categorical(y)\n",
    "    return y[:,1:] #remove extra zero column at the first"
   ]
  },
  {
   "cell_type": "code",
   "execution_count": 8,
   "metadata": {},
   "outputs": [],
   "source": [
    "#def dict_to_array(dic):\n",
    "#    return [v for _, v in dic.items()]"
   ]
  },
  {
   "cell_type": "code",
   "execution_count": 9,
   "metadata": {},
   "outputs": [],
   "source": [
    "def prepare_data(data_file_name):\n",
    "    data_path = path + data_file_name\n",
    "    processed_data_path = path + 'processed-' + data_file_name\n",
    "    # check if file is processed\n",
    "    if os.path.isfile(processed_data_path):\n",
    "        print(\"Processed file:\", data_file_name)\n",
    "        df = pd.read_csv(processed_data_path)\n",
    "        inputs = [str(x).split() for x in df.iloc[:, 1].values]\n",
    "        labels = df.iloc[:, 0].values\n",
    "        return (inputs, labels)\n",
    "    \n",
    "    # preprocessing and save into csv file\n",
    "    print(\"Preprocessing data file:\", data_file_name)\n",
    "    inputs, labels, _ = preprocessing(data_path)\n",
    "\n",
    "    # convert dict into array\n",
    "    inputs = dict_to_array(inputs)\n",
    "    labels = dict_to_array(labels)\n",
    "\n",
    "    # save into csv\n",
    "    df_save = pd.DataFrame({'x': [' '.join(x) for x in inputs], 'label': labels})\n",
    "    df_save.to_csv(processed_data_path, encoding='utf-8', index=False)\n",
    "    \n",
    "    return (inputs, labels)    "
   ]
  },
  {
   "cell_type": "code",
   "execution_count": 10,
   "metadata": {},
   "outputs": [
    {
     "name": "stdout",
     "output_type": "stream",
     "text": [
      "Load word2vec done!\n"
     ]
    }
   ],
   "source": [
    "# convert glove to w2v\n",
    "glove_input_file = GLOVE_DIR + 'glove.twitter.27B.100d.txt'\n",
    "word2vec_output_file = GLOVE_DIR + 'word2vec.twitter.27B.100d.txt'\n",
    "\"\"\"\n",
    "glove2word2vec(glove_input_file, word2vec_output_file)\n",
    "print(\"Glove to Word2Vec conversion Done!\")\n",
    "\"\"\"\n",
    "\n",
    "word2vec = KeyedVectors.load_word2vec_format(word2vec_output_file, binary=False)\n",
    "print(\"Load word2vec done!\")"
   ]
  },
  {
   "cell_type": "code",
   "execution_count": 11,
   "metadata": {},
   "outputs": [
    {
     "name": "stdout",
     "output_type": "stream",
     "text": [
      "Processed file: EI-reg-En-full-train.csv\n",
      "Processed file: EI-reg-En-full-dev.csv\n",
      "Processed file: EI-reg-En-part-test.csv\n",
      "Train: 7102 7102\n",
      "Val: 1464 1464\n",
      "Test: 2000 2000\n"
     ]
    }
   ],
   "source": [
    "# read data file\n",
    "train_data, train_label = prepare_data('EI-reg-En-full-train.csv')\n",
    "dev_data, dev_label = prepare_data('EI-reg-En-full-dev.csv')\n",
    "test_data, test_label = prepare_data('EI-reg-En-part-test.csv')\n",
    "\n",
    "print(\"Train:\", len(train_data), len(train_label))\n",
    "print(\"Val:\", len(dev_data), len(dev_label))\n",
    "print(\"Test:\", len(test_data), len(test_label))"
   ]
  },
  {
   "cell_type": "code",
   "execution_count": 12,
   "metadata": {},
   "outputs": [
    {
     "name": "stdout",
     "output_type": "stream",
     "text": [
      "Max sequence length: 23\n"
     ]
    }
   ],
   "source": [
    "input_data = np.concatenate((train_data, dev_data, test_data))\n",
    "max_sequence_length = max([len(x) for x in input_data])\n",
    "print(\"Max sequence length:\", max_sequence_length)"
   ]
  },
  {
   "cell_type": "code",
   "execution_count": 13,
   "metadata": {},
   "outputs": [
    {
     "name": "stdout",
     "output_type": "stream",
     "text": [
      "Train embedding: (7102, 23, 100) (7102,)\n",
      "Dev embedding: (1464, 23, 100) (1464,)\n",
      "Test embedding: (2000, 23, 100) (2000,)\n"
     ]
    }
   ],
   "source": [
    "# embedding data\n",
    "def embedding(data, max_len):\n",
    "    data_eb = np.zeros((len(data), max_len, input_dim))\n",
    "    for i in range(len(data)):\n",
    "        vec = []\n",
    "        for j, token in enumerate(data[i]):\n",
    "            if token in word2vec:\n",
    "                data_eb[i][-len(data[i]) + j] = word2vec[token]            \n",
    "    return data_eb\n",
    "\n",
    "train_data = embedding(train_data, max_sequence_length)\n",
    "dev_data = embedding(dev_data, max_sequence_length)\n",
    "test_data = embedding(test_data, max_sequence_length)\n",
    "\n",
    "print(\"Train embedding:\", train_data.shape, train_label.shape)\n",
    "print(\"Dev embedding:\", dev_data.shape, dev_label.shape)\n",
    "print(\"Test embedding:\", test_data.shape, test_label.shape)"
   ]
  },
  {
   "cell_type": "code",
   "execution_count": 14,
   "metadata": {},
   "outputs": [
    {
     "name": "stdout",
     "output_type": "stream",
     "text": [
      "Number class: 4\n",
      "One-hot encoded: (7102, 4) (1464, 4) (2000, 4)\n"
     ]
    }
   ],
   "source": [
    "# convert label to one-hot vector\n",
    "labels = np.concatenate((train_label, dev_label, test_label))\n",
    "number_classes = len(np.unique(labels))\n",
    "print(\"Number class:\", number_classes)\n",
    "y_oh = one_hot_encoding(labels)\n",
    "\n",
    "train_label = y_oh[:train_label.shape[0]]\n",
    "dev_label = y_oh[train_label.shape[0]:train_label.shape[0] + dev_label.shape[0]]\n",
    "test_label = y_oh[-test_label.shape[0]:]\n",
    "\n",
    "print(\"One-hot encoded:\", train_label.shape, dev_label.shape, test_label.shape)"
   ]
  },
  {
   "cell_type": "code",
   "execution_count": 27,
   "metadata": {},
   "outputs": [],
   "source": [
    "def compile_model(input_dim, latent_dim, num_class):\n",
    "    '''Create model\n",
    "\n",
    "    Args:\n",
    "        input_dim (int): dim of embedding vector (glove dimension)\n",
    "        latent_dim (int): dim of output from LSTM layer\n",
    "        num_class (int): number output class\n",
    "    '''\n",
    "    inputs = Input(shape=(None, input_dim))\n",
    "    lstm = Bidirectional(LSTM(latent_dim))(inputs)\n",
    "    drop = Dropout(0.5)(lstm)\n",
    "    #flat = Flatten()(drop)\n",
    "    out = Dense(num_class, activation='softmax')(drop)\n",
    "\n",
    "    model = Model(inputs, out)\n",
    "\n",
    "    model.compile(loss='categorical_crossentropy', optimizer='adam', metrics=['accuracy'])\n",
    "    model.summary()\n",
    "    \n",
    "    return model"
   ]
  },
  {
   "cell_type": "code",
   "execution_count": 28,
   "metadata": {},
   "outputs": [
    {
     "name": "stdout",
     "output_type": "stream",
     "text": [
      "_________________________________________________________________\n",
      "Layer (type)                 Output Shape              Param #   \n",
      "=================================================================\n",
      "input_6 (InputLayer)         (None, None, 100)         0         \n",
      "_________________________________________________________________\n",
      "bidirectional_5 (Bidirection (None, 256)               234496    \n",
      "_________________________________________________________________\n",
      "dropout_5 (Dropout)          (None, 256)               0         \n",
      "_________________________________________________________________\n",
      "dense_2 (Dense)              (None, 4)                 1028      \n",
      "=================================================================\n",
      "Total params: 235,524\n",
      "Trainable params: 235,524\n",
      "Non-trainable params: 0\n",
      "_________________________________________________________________\n"
     ]
    }
   ],
   "source": [
    "# create lstm model\n",
    "model = compile_model(input_dim, 128, number_classes)"
   ]
  },
  {
   "cell_type": "code",
   "execution_count": 29,
   "metadata": {
    "scrolled": false
   },
   "outputs": [
    {
     "name": "stdout",
     "output_type": "stream",
     "text": [
      "Train on 7102 samples, validate on 1464 samples\n",
      "Epoch 1/1\n",
      "\n",
      "Epoch 00001: val_loss improved from inf to 1.31466, saving model to twitter-emotion.h5\n",
      " - 17s - loss: 1.2071 - acc: 0.4602 - val_loss: 1.3147 - val_acc: 0.3948\n"
     ]
    },
    {
     "data": {
      "text/plain": [
       "<keras.callbacks.History at 0x29a6314dbe0>"
      ]
     },
     "execution_count": 29,
     "metadata": {},
     "output_type": "execute_result"
    }
   ],
   "source": [
    "epochs = 1\n",
    "batch_size = 128\n",
    "\n",
    "checkpointer = ModelCheckpoint(filepath='twitter-emotion.h5', verbose=1, save_best_only=True)\n",
    "model.fit(train_data, train_label, validation_data=(dev_data, dev_label), callbacks=[checkpointer], \n",
    "          shuffle=True, epochs=epochs, batch_size=batch_size, verbose=2)"
   ]
  },
  {
   "cell_type": "code",
   "execution_count": 24,
   "metadata": {},
   "outputs": [
    {
     "name": "stdout",
     "output_type": "stream",
     "text": [
      "2000/2000 [==============================] - 1s 409us/step\n"
     ]
    },
    {
     "data": {
      "text/plain": [
       "[1.202457432746887, 0.5885]"
      ]
     },
     "execution_count": 24,
     "metadata": {},
     "output_type": "execute_result"
    }
   ],
   "source": [
    "# test\n",
    "model.evaluate(test_data, test_label)"
   ]
  },
  {
   "cell_type": "code",
   "execution_count": null,
   "metadata": {},
   "outputs": [],
   "source": []
  }
 ],
 "metadata": {
  "kernelspec": {
   "display_name": "Python 3",
   "language": "python",
   "name": "python3"
  },
  "language_info": {
   "codemirror_mode": {
    "name": "ipython",
    "version": 3
   },
   "file_extension": ".py",
   "mimetype": "text/x-python",
   "name": "python",
   "nbconvert_exporter": "python",
   "pygments_lexer": "ipython3",
   "version": "3.6.4"
  }
 },
 "nbformat": 4,
 "nbformat_minor": 2
}
